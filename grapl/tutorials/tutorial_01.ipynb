{
 "cells": [
  {
   "cell_type": "markdown",
   "id": "f3d395cc",
   "metadata": {},
   "source": [
    "# GRAPL: Tutorial 01\n",
    "\n",
    "\n",
    "Tutorial illustrating the use of the GRAPL library, for representing, analyzing and processing\n",
    "**acyclic directed mixed graphs** (**ADMG**s) for structural causal modelling.\n",
    "\n",
    "**License**: CC BY-SA 4.0 2021. \n",
    "\n",
    "\n",
    "If you use this code, please cite:\n",
    "\n",
    "Little, M. A., Badawy, R. (2019). [Causal bootstrapping](https://arxiv.org/pdf/1910.09648.pdf), *ArXiV*, arXiv:1910.09648"
   ]
  },
  {
   "cell_type": "code",
   "execution_count": 1,
   "id": "2c4fe41a",
   "metadata": {},
   "outputs": [],
   "source": [
    "import grapl.algorithms as algs\n",
    "import grapl.dsl as dsl"
   ]
  },
  {
   "cell_type": "code",
   "execution_count": 2,
   "id": "0cdc89b7",
   "metadata": {},
   "outputs": [],
   "source": [
    "# Create a GRAPL DSL parser\n",
    "grapl_obj = dsl.GraplDSL()"
   ]
  },
  {
   "cell_type": "code",
   "execution_count": 3,
   "id": "d38dc2f2",
   "metadata": {},
   "outputs": [
    {
     "name": "stdout",
     "output_type": "stream",
     "text": [
      "Title: \"Simple back-door graph\"\n",
      "Vars: C,Y,X\n",
      "Parents:\n",
      "Y <- C,X\n",
      "X <- C\n",
      "Children:\n",
      "C -> Y,X\n",
      "X -> Y\n",
      "Bidirects:\n"
     ]
    }
   ],
   "source": [
    "# Create a DAG from a GRAPL string\n",
    "dag_grapl = ' \"Simple back-door graph\"; \\\n",
    "    C; X; Y; \\\n",
    "    C -> X; \\\n",
    "    C -> Y; \\\n",
    "    X -> Y; '\n",
    "\n",
    "G = grapl_obj.readgrapl(dag_grapl)\n",
    "\n",
    "# Display the DAG object\n",
    "G.display()"
   ]
  },
  {
   "cell_type": "code",
   "execution_count": 4,
   "id": "66ddbc32",
   "metadata": {},
   "outputs": [
    {
     "name": "stdout",
     "output_type": "stream",
     "text": [
      "\n",
      "Check if the DAG is acyclic:\n",
      "True\n"
     ]
    }
   ],
   "source": [
    "print('\\nCheck if the DAG is acyclic:')\n",
    "print(G.isdag()) \n",
    "\n",
    "# Expected: True"
   ]
  },
  {
   "cell_type": "code",
   "execution_count": 5,
   "id": "64ea988e",
   "metadata": {},
   "outputs": [
    {
     "name": "stdout",
     "output_type": "stream",
     "text": [
      "\n",
      "Factorized joint distribution:\n"
     ]
    },
    {
     "data": {
      "text/latex": [
       "$$p(C,Y,X)=p(Y|C,X)p(X|C)p(C)$$"
      ],
      "text/plain": [
       "<grapl.eqn.Eqn at 0x261a2360100>"
      ]
     },
     "execution_count": 5,
     "metadata": {},
     "output_type": "execute_result"
    }
   ],
   "source": [
    "print('\\nFactorized joint distribution:')\n",
    "fac_str, fac_eqn, isdag = algs.dagfactor(G, simplify=False)\n",
    "\n",
    "fac_eqn \n",
    "\n",
    "# Expected: p(X,C,Y)=[p(Y|X,C)p(X|C)p(C)]"
   ]
  },
  {
   "cell_type": "code",
   "execution_count": 6,
   "id": "4a8cfb3d",
   "metadata": {},
   "outputs": [
    {
     "name": "stdout",
     "output_type": "stream",
     "text": [
      "\n",
      "Interventional (cause-effect) distribution of X on Y:\n"
     ]
    },
    {
     "data": {
      "text/latex": [
       "$$p_{X}(Y)=\\sum_{C}[p(Y|C,X)p(C)]$$"
      ],
      "text/plain": [
       "<grapl.eqn.Eqn at 0x261a2454520>"
      ]
     },
     "execution_count": 6,
     "metadata": {},
     "output_type": "execute_result"
    }
   ],
   "source": [
    "print('\\nInterventional (cause-effect) distribution of X on Y:')\n",
    "id_str, id_eqn, isdag = algs.truncfactor(G, {'X'}, {'Y'})\n",
    "\n",
    "id_eqn\n",
    "\n",
    "# Expected: p_{X}(Y)=\\sum_{C}[p(Y|X,C)p(C)]"
   ]
  }
 ],
 "metadata": {
  "kernelspec": {
   "display_name": "Python [conda env:causal_book_py39_exprmnt_cuda117]",
   "language": "python",
   "name": "conda-env-causal_book_py39_exprmnt_cuda117-py"
  },
  "language_info": {
   "codemirror_mode": {
    "name": "ipython",
    "version": 3
   },
   "file_extension": ".py",
   "mimetype": "text/x-python",
   "name": "python",
   "nbconvert_exporter": "python",
   "pygments_lexer": "ipython3",
   "version": "3.9.16"
  }
 },
 "nbformat": 4,
 "nbformat_minor": 5
}
